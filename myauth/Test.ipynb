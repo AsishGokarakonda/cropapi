{
 "cells": [
  {
   "cell_type": "code",
   "execution_count": 33,
   "metadata": {},
   "outputs": [],
   "source": [
    "import tensorflow as tf\n",
    "import numpy as np\n",
    "import sys\n",
    "\n",
    "#Model classifies the picture into the following \"classes\"\n",
    "class_names = ['Banana Bacterial Segota', 'Banana Bacterial Wilt', 'Banana Healthy']"
   ]
  },
  {
   "cell_type": "code",
   "execution_count": 34,
   "metadata": {},
   "outputs": [],
   "source": [
    "#loading the ML model\n",
    "model = tf.keras.models.load_model(\"/home/aryan/Project/cropapi/myauth/BananaModel.h5\")\n"
   ]
  },
  {
   "cell_type": "code",
   "execution_count": 35,
   "metadata": {},
   "outputs": [],
   "source": [
    "dataset = tf.keras.preprocessing.image_dataset_from_directory(\n",
    "    \"/home/aryan/Project/cropapi/myauth/BananaPictures\",\n",
    "    shuffle = False, \n",
    "    image_size = (256,256),\n",
    "    batch_size = 1)"
   ]
  },
  {
   "cell_type": "code",
   "execution_count": 36,
   "metadata": {},
   "outputs": [],
   "source": [
    "#Defining predict function \n",
    "#Takes in input as model and image\n",
    "def predict(model, img):\n",
    "    img_array = tf.keras.preprocessing.image.img_to_array(images[len(images)-1].numpy())    #Converting PIL Image to numpy array (256,256,3) \n",
    "    img_array = tf.expand_dims(img_array, 0)                                                #Adding 4th Dimension to numpy array (0,256,256,3) \n",
    "\n",
    "    predictions = model.predict(img_array, verbose = 0)                                     #Run prediction on the numpy array\n",
    "\n",
    "    predicted_class = class_names[np.argmax(predictions[0])]\n",
    "    # confidence = round(100 * (np.max(predictions[0])), 2)\n",
    "    return predicted_class\n",
    "\n",
    "predicted_class = \"NULL\"\n",
    "\n",
    "# File where output is sent\n",
    "path = '/home/aryan/Project/cropapi/myauth/Test.txt'\n",
    "sys.stdout = open(path, 'w')\n",
    "\n",
    "# for images, labels in dataset:\n",
    "#     for i in range(len(images)):\n",
    "#         if (i==len(images)-1):\n",
    "predicted_class = predict(model, images[len(images)-1].numpy())\n",
    "\n",
    "print (predicted_class)"
   ]
  },
  {
   "cell_type": "code",
   "execution_count": null,
   "metadata": {},
   "outputs": [],
   "source": [
    "\n"
   ]
  }
 ],
 "metadata": {
  "kernelspec": {
   "display_name": "Python 3.10.6 64-bit",
   "language": "python",
   "name": "python3"
  },
  "language_info": {
   "codemirror_mode": {
    "name": "ipython",
    "version": 3
   },
   "file_extension": ".py",
   "mimetype": "text/x-python",
   "name": "python",
   "nbconvert_exporter": "python",
   "pygments_lexer": "ipython3",
   "version": "3.10.6"
  },
  "orig_nbformat": 4,
  "vscode": {
   "interpreter": {
    "hash": "916dbcbb3f70747c44a77c7bcd40155683ae19c65e1c03b4aa3499c5328201f1"
   }
  }
 },
 "nbformat": 4,
 "nbformat_minor": 2
}
